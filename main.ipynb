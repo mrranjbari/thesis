{
  "cells": [
    {
      "cell_type": "markdown",
      "metadata": {
        "id": "view-in-github",
        "colab_type": "text"
      },
      "source": [
        "<a href=\"https://colab.research.google.com/github/mrranjbari/thesis/blob/main/main.ipynb\" target=\"_parent\"><img src=\"https://colab.research.google.com/assets/colab-badge.svg\" alt=\"Open In Colab\"/></a>"
      ]
    },
    {
      "cell_type": "code",
      "source": [
        "!pip install wheel\n"
      ],
      "metadata": {
        "colab": {
          "base_uri": "https://localhost:8080/"
        },
        "id": "nDkpp9Nd3WHD",
        "outputId": "09338ffa-9224-49b3-ac89-17aaa6af5481"
      },
      "execution_count": 7,
      "outputs": [
        {
          "output_type": "stream",
          "name": "stdout",
          "text": [
            "Requirement already satisfied: wheel in /usr/local/lib/python3.10/dist-packages (0.43.0)\n"
          ]
        }
      ]
    },
    {
      "cell_type": "code",
      "execution_count": 2,
      "metadata": {
        "colab": {
          "base_uri": "https://localhost:8080/"
        },
        "id": "7K0FJzyo29iZ",
        "outputId": "7b359a11-8e23-4c40-e930-f4615be464d9"
      },
      "outputs": [
        {
          "output_type": "stream",
          "name": "stdout",
          "text": [
            "hi\n"
          ]
        }
      ],
      "source": [
        "print(\"hi\")"
      ]
    },
    {
      "cell_type": "markdown",
      "metadata": {
        "id": "z6A6Eexk29ia"
      },
      "source": [
        "#### Header\n",
        "\n",
        "$$\\sqrt{x_1}$$"
      ]
    },
    {
      "cell_type": "markdown",
      "metadata": {
        "id": "auB2TOnX29ib"
      },
      "source": [
        "$$\n",
        "\\begin{align}\n",
        "  \\tag{1.1}\n",
        "  V_{sphere} = \\frac{4}{3}\\pi r^3\n",
        "\\end{align}\n",
        "$$\n"
      ]
    },
    {
      "cell_type": "markdown",
      "metadata": {
        "id": "xbb0UFRC29ib"
      },
      "source": [
        "#### Header\n",
        "\n",
        "$$\\sqrt{x_1}$$"
      ]
    },
    {
      "cell_type": "code",
      "execution_count": 3,
      "metadata": {
        "colab": {
          "base_uri": "https://localhost:8080/"
        },
        "id": "Odd0dMFt29ib",
        "outputId": "e66eb850-f758-4d71-9ac2-44166a473865"
      },
      "outputs": [
        {
          "output_type": "stream",
          "name": "stdout",
          "text": [
            "4315.609435087999\n"
          ]
        }
      ],
      "source": [
        "r = 10.1\n",
        "pi = 3.141516\n",
        "\n",
        "v_sphre = (4/3)* pi *( r ** 3)\n",
        "print(v_sphre)"
      ]
    },
    {
      "cell_type": "code",
      "execution_count": 4,
      "metadata": {
        "id": "Gh0TyDZt29ib"
      },
      "outputs": [],
      "source": [
        "x = 6"
      ]
    },
    {
      "cell_type": "markdown",
      "metadata": {
        "id": "_NFAPsTT29ib"
      },
      "source": [
        "متغیر بالا رو برای دمای ... تعریف کردم."
      ]
    },
    {
      "cell_type": "code",
      "execution_count": 5,
      "metadata": {
        "colab": {
          "base_uri": "https://localhost:8080/",
          "height": 146
        },
        "id": "-iD7tbIE29ib",
        "outputId": "ef69b630-0fbb-4cfe-f6e0-2d4f5b3fd5a4"
      },
      "outputs": [
        {
          "output_type": "error",
          "ename": "NameError",
          "evalue": "name 'a' is not defined",
          "traceback": [
            "\u001b[0;31m---------------------------------------------------------------------------\u001b[0m",
            "\u001b[0;31mNameError\u001b[0m                                 Traceback (most recent call last)",
            "\u001b[0;32m<ipython-input-5-3f786850e387>\u001b[0m in \u001b[0;36m<cell line: 1>\u001b[0;34m()\u001b[0m\n\u001b[0;32m----> 1\u001b[0;31m \u001b[0ma\u001b[0m\u001b[0;34m\u001b[0m\u001b[0;34m\u001b[0m\u001b[0m\n\u001b[0m",
            "\u001b[0;31mNameError\u001b[0m: name 'a' is not defined"
          ]
        }
      ],
      "source": [
        "a"
      ]
    }
  ],
  "metadata": {
    "kernelspec": {
      "display_name": "Python 3",
      "language": "python",
      "name": "python3"
    },
    "language_info": {
      "codemirror_mode": {
        "name": "ipython",
        "version": 3
      },
      "file_extension": ".py",
      "mimetype": "text/x-python",
      "name": "python",
      "nbconvert_exporter": "python",
      "pygments_lexer": "ipython3",
      "version": "3.11.0"
    },
    "colab": {
      "provenance": [],
      "include_colab_link": true
    }
  },
  "nbformat": 4,
  "nbformat_minor": 0
}